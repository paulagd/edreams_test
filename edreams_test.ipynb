{
 "cells": [
  {
   "cell_type": "markdown",
   "metadata": {},
   "source": [
    "# EDREAMS-TEST"
   ]
  },
  {
   "cell_type": "code",
   "execution_count": null,
   "metadata": {},
   "outputs": [],
   "source": [
    "%matplotlib inline\n",
    "import numpy as np\n",
    "import matplotlib.pyplot as plt\n",
    "import seaborn as sns\n",
    "from sklearn.metrics import f1_score, confusion_matrix, roc_auc_score\n",
    "from sklearn.model_selection import train_test_split\n",
    "from sklearn.utils import resample\n",
    "from tqdm import tqdm\n",
    "from datetime import datetime\n",
    "import csv\n",
    "import pandas as pd\n",
    "import os\n",
    "from IPython import embed\n",
    "import lightgbm as lgb"
   ]
  },
  {
   "cell_type": "code",
   "execution_count": null,
   "metadata": {},
   "outputs": [],
   "source": [
    "main_path = '/Users/paulagomezduran/Desktop/EDREAMS/'\n",
    "dataset_train = os.path.join(main_path, 'train.csv')\n",
    "dataset_test = os.path.join(main_path, 'test.csv') \n",
    "best_results =  True # FLAG TO ACTIVATE THE PARTS OF THE NOTEBOOK WHICH LEADS FOR BETTER RESULTS"
   ]
  },
  {
   "cell_type": "markdown",
   "metadata": {},
   "source": [
    "The challenge is to predict whether a customer will ask for an EXTRA_BAGGAGE or not. Thus, the labels for this problem will be the column 'EXTRA_BAGGAGE' of the following dataframe."
   ]
  },
  {
   "cell_type": "markdown",
   "metadata": {},
   "source": [
    "## PRE-PROCESSING DATA"
   ]
  },
  {
   "cell_type": "code",
   "execution_count": 3,
   "metadata": {},
   "outputs": [
    {
     "name": "stdout",
     "output_type": "stream",
     "text": [
      "   ID TIMESTAMP WEBSITE  GDS  DEPARTURE    ARRIVAL  ADULTS  CHILDREN  INFANTS  \\\n",
      "0   0   01/July    EDES    1    22/July    25/July       1         0        0   \n",
      "1   1   01/July    EDIT    0    29/July    29/July       1         0        0   \n",
      "2   2   01/July    OPUK    2    29/July  19/August       1         0        0   \n",
      "3   3   01/July    OPIT    0    24/July  04/August       1         0        0   \n",
      "4   4   01/July    EDES    0  11/August  11/August       1         0        0   \n",
      "\n",
      "   TRAIN    HAUL_TYPE DISTANCE      DEVICE          TRIP_TYPE PRODUCT    SMS  \\\n",
      "0  False     DOMESTIC  628,844      TABLET         ROUND_TRIP    TRIP   True   \n",
      "1  False  CONTINENTAL  1281,43  SMARTPHONE            ONE_WAY    TRIP  False   \n",
      "2  False  CONTINENTAL  1730,35      TABLET         ROUND_TRIP    TRIP   True   \n",
      "3  False     DOMESTIC  652,702  SMARTPHONE  MULTI_DESTINATION    TRIP  False   \n",
      "4  False  CONTINENTAL  1717,85    COMPUTER            ONE_WAY    TRIP  False   \n",
      "\n",
      "   EXTRA_BAGGAGE  NO_GDS  \n",
      "0          False       0  \n",
      "1          False       1  \n",
      "2          False       0  \n",
      "3          False       2  \n",
      "4          False       1  \n"
     ]
    }
   ],
   "source": [
    "df = pd.read_csv(dataset_train, sep=';', engine='python')\n",
    "print(df.head())"
   ]
  },
  {
   "cell_type": "markdown",
   "metadata": {},
   "source": [
    "First, let's take a look at how the classes are balanced for our dataset."
   ]
  },
  {
   "cell_type": "code",
   "execution_count": 4,
   "metadata": {},
   "outputs": [
    {
     "data": {
      "text/plain": [
       "False    40201\n",
       "True      9799\n",
       "Name: EXTRA_BAGGAGE, dtype: int64"
      ]
     },
     "execution_count": 4,
     "metadata": {},
     "output_type": "execute_result"
    }
   ],
   "source": [
    "df['EXTRA_BAGGAGE'].value_counts()"
   ]
  },
  {
   "cell_type": "markdown",
   "metadata": {},
   "source": [
    "Based on the previous information, where we conclude that most of the passangers have not taken an EXTRA_BAGGAGE, we will focus on telling which features are relevant or which are not before addressing the problem of balancing the classes.\n",
    "\n",
    "As the TIMESTAMP parameter of this 50k data refers to just to the 1st or the 2nd of July (probably because they are a set of samples collected during those 2 days), they are not relevant for the EXTRA_BAGGAGE prediction task.\n",
    "\n",
    "ID column is also not adding information as it is just an identifier for each booking."
   ]
  },
  {
   "cell_type": "code",
   "execution_count": 5,
   "metadata": {},
   "outputs": [
    {
     "name": "stdout",
     "output_type": "stream",
     "text": [
      "EXTRA_BAGGAGE  TIMESTAMP\n",
      "False          01/July      30435\n",
      "               02/July       9766\n",
      "True           01/July       7387\n",
      "               02/July       2412\n",
      "dtype: int64\n"
     ]
    }
   ],
   "source": [
    "group_data = df.groupby(['EXTRA_BAGGAGE','TIMESTAMP']).size()\n",
    "print(group_data)"
   ]
  },
  {
   "cell_type": "code",
   "execution_count": 6,
   "metadata": {},
   "outputs": [
    {
     "name": "stdout",
     "output_type": "stream",
     "text": [
      "True\n"
     ]
    }
   ],
   "source": [
    "print(len(df) == len(np.unique(df['ID'])))"
   ]
  },
  {
   "cell_type": "markdown",
   "metadata": {},
   "source": [
    "I define the next function in order to explore the trip duration instead of ARRIVAL and DEPARTURE dates separately. In the next cell, I run the function on the dataframe. Thus, I will remove ARRIVAL and DEPARTURE columns from the dataframe.\n",
    "\n",
    "Besides, I will leverage the function to remove TIMESTAMP and ID columns as well, as they won't be useful for us in this case."
   ]
  },
  {
   "cell_type": "code",
   "execution_count": 7,
   "metadata": {},
   "outputs": [],
   "source": [
    "def create_tripDuration(df, df_set):\n",
    "\n",
    "    for i, d in tqdm(enumerate(df['ARRIVAL']), desc=f\"Converting ARRIVAL str to datetime [{df_set}]\",\n",
    "                     total=len(df['ARRIVAL'])):\n",
    "        df['ARRIVAL'][i] = datetime.strptime(d, '%d/%B')\n",
    "        #df.loc['ARRIVAL', i] = datetime.strptime(d, '%d/%B')\n",
    "\n",
    "    for i, d in tqdm(enumerate(df['DEPARTURE']), desc=f\"Converting DEPARTURE str to datetime [{df_set}]\",\n",
    "                     total=len(df['DEPARTURE'])):\n",
    "        df['DEPARTURE'][i] = datetime.strptime(d, '%d/%B')\n",
    "        #df.loc['DEPARTURE', i] = datetime.strptime(d, '%d/%B')\n",
    "\n",
    "    df['TRIP_DURATION'] = df['ARRIVAL'].sub(df['DEPARTURE'], axis=0).dt.days\n",
    "    neg_values = df[df['TRIP_DURATION'] < 0]['TRIP_DURATION'] + 365\n",
    "    df.update(neg_values)\n",
    "    return df.drop(columns=['DEPARTURE', 'ARRIVAL', 'TIMESTAMP', 'ID'])"
   ]
  },
  {
   "cell_type": "code",
   "execution_count": 8,
   "metadata": {},
   "outputs": [
    {
     "name": "stderr",
     "output_type": "stream",
     "text": [
      "Converting ARRIVAL str to datetime [training set]:   0%|          | 0/50000 [00:00<?, ?it/s]/Users/paulagomezduran/Workspace/virtualenvs/research/lib/python3.6/site-packages/ipykernel_launcher.py:5: SettingWithCopyWarning: \n",
      "A value is trying to be set on a copy of a slice from a DataFrame\n",
      "\n",
      "See the caveats in the documentation: http://pandas.pydata.org/pandas-docs/stable/user_guide/indexing.html#returning-a-view-versus-a-copy\n",
      "  \"\"\"\n",
      "Converting ARRIVAL str to datetime [training set]: 100%|██████████| 50000/50000 [00:13<00:00, 3797.96it/s]\n",
      "Converting DEPARTURE str to datetime [training set]:   0%|          | 0/50000 [00:00<?, ?it/s]/Users/paulagomezduran/Workspace/virtualenvs/research/lib/python3.6/site-packages/ipykernel_launcher.py:10: SettingWithCopyWarning: \n",
      "A value is trying to be set on a copy of a slice from a DataFrame\n",
      "\n",
      "See the caveats in the documentation: http://pandas.pydata.org/pandas-docs/stable/user_guide/indexing.html#returning-a-view-versus-a-copy\n",
      "  # Remove the CWD from sys.path while we load stuff.\n",
      "Converting DEPARTURE str to datetime [training set]: 100%|██████████| 50000/50000 [00:12<00:00, 3930.34it/s]\n"
     ]
    }
   ],
   "source": [
    "df = create_tripDuration(df, 'training set')\n"
   ]
  },
  {
   "cell_type": "code",
   "execution_count": 9,
   "metadata": {},
   "outputs": [
    {
     "name": "stdout",
     "output_type": "stream",
     "text": [
      "  WEBSITE  GDS  ADULTS  CHILDREN  INFANTS  TRAIN    HAUL_TYPE DISTANCE  \\\n",
      "0    EDES    1       1         0        0  False     DOMESTIC  628,844   \n",
      "1    EDIT    0       1         0        0  False  CONTINENTAL  1281,43   \n",
      "2    OPUK    2       1         0        0  False  CONTINENTAL  1730,35   \n",
      "3    OPIT    0       1         0        0  False     DOMESTIC  652,702   \n",
      "4    EDES    0       1         0        0  False  CONTINENTAL  1717,85   \n",
      "\n",
      "       DEVICE          TRIP_TYPE PRODUCT    SMS  EXTRA_BAGGAGE  NO_GDS  \\\n",
      "0      TABLET         ROUND_TRIP    TRIP   True          False       0   \n",
      "1  SMARTPHONE            ONE_WAY    TRIP  False          False       1   \n",
      "2      TABLET         ROUND_TRIP    TRIP   True          False       0   \n",
      "3  SMARTPHONE  MULTI_DESTINATION    TRIP  False          False       2   \n",
      "4    COMPUTER            ONE_WAY    TRIP  False          False       1   \n",
      "\n",
      "   TRIP_DURATION  \n",
      "0            3.0  \n",
      "1            0.0  \n",
      "2           21.0  \n",
      "3           11.0  \n",
      "4            0.0  \n"
     ]
    }
   ],
   "source": [
    "print(df.head())"
   ]
  },
  {
   "cell_type": "markdown",
   "metadata": {},
   "source": [
    "Analogously, I will explore ADULTS, CHILDREN and INFANTS to see whether it make sense to substitute them for FAMILY_SIZE."
   ]
  },
  {
   "cell_type": "code",
   "execution_count": 10,
   "metadata": {},
   "outputs": [
    {
     "data": {
      "text/plain": [
       "EXTRA_BAGGAGE  ADULTS  CHILDREN  INFANTS\n",
       "False          0       1         0             10\n",
       "               1       0         0          25889\n",
       "                                 1            191\n",
       "                       1         0            791\n",
       "                                 1             77\n",
       "                                            ...  \n",
       "True           7       1         0              2\n",
       "                       2         0              1\n",
       "               8       0         0              4\n",
       "                       1         0              2\n",
       "               9       0         0              6\n",
       "Length: 109, dtype: int64"
      ]
     },
     "execution_count": 10,
     "metadata": {},
     "output_type": "execute_result"
    }
   ],
   "source": [
    "df.groupby(['EXTRA_BAGGAGE','ADULTS', 'CHILDREN', 'INFANTS']).size()\n"
   ]
  },
  {
   "cell_type": "markdown",
   "metadata": {},
   "source": [
    "If we look above, we see that even we could do it, it would be very interesting to have a boolean feature which indicates whether a booking refers to a single passanger or not, as the most significant data relies in when we have just an ALONE ADULT. Thus, we will create the FAMILY_SIZE attribute plus a IS_ALONE boolean parameter."
   ]
  },
  {
   "cell_type": "code",
   "execution_count": 11,
   "metadata": {},
   "outputs": [],
   "source": [
    "def create_family_indicators(df, df_set):\n",
    "\n",
    "    for i, row in tqdm(df.iterrows(), desc=f\"Creating new variables in {df_set}\"):\n",
    "        df.at[i,'FAMILY_SIZE'] = row['ADULTS'] + row['CHILDREN'] + row['INFANTS']\n",
    "        df.at[i,'IS_ALONE'] = True if int(df.loc[i,'FAMILY_SIZE']) == 1 else False\n",
    "    print('DONE!')\n",
    "    return df.drop(columns=['ADULTS', 'CHILDREN', 'INFANTS'])"
   ]
  },
  {
   "cell_type": "code",
   "execution_count": 12,
   "metadata": {},
   "outputs": [
    {
     "name": "stderr",
     "output_type": "stream",
     "text": [
      "Creating new variables in training set: 50000it [00:11, 4349.01it/s]"
     ]
    },
    {
     "name": "stdout",
     "output_type": "stream",
     "text": [
      "DONE!\n"
     ]
    },
    {
     "name": "stderr",
     "output_type": "stream",
     "text": [
      "\n"
     ]
    }
   ],
   "source": [
    "df = create_family_indicators(df, 'training set')\n",
    "df['IS_ALONE'] = df['IS_ALONE'].astype('bool')\n",
    "\n"
   ]
  },
  {
   "cell_type": "code",
   "execution_count": 13,
   "metadata": {},
   "outputs": [
    {
     "data": {
      "text/html": [
       "<div>\n",
       "<style scoped>\n",
       "    .dataframe tbody tr th:only-of-type {\n",
       "        vertical-align: middle;\n",
       "    }\n",
       "\n",
       "    .dataframe tbody tr th {\n",
       "        vertical-align: top;\n",
       "    }\n",
       "\n",
       "    .dataframe thead th {\n",
       "        text-align: right;\n",
       "    }\n",
       "</style>\n",
       "<table border=\"1\" class=\"dataframe\">\n",
       "  <thead>\n",
       "    <tr style=\"text-align: right;\">\n",
       "      <th></th>\n",
       "      <th>WEBSITE</th>\n",
       "      <th>GDS</th>\n",
       "      <th>TRAIN</th>\n",
       "      <th>HAUL_TYPE</th>\n",
       "      <th>DISTANCE</th>\n",
       "      <th>DEVICE</th>\n",
       "      <th>TRIP_TYPE</th>\n",
       "      <th>PRODUCT</th>\n",
       "      <th>SMS</th>\n",
       "      <th>EXTRA_BAGGAGE</th>\n",
       "      <th>NO_GDS</th>\n",
       "      <th>TRIP_DURATION</th>\n",
       "      <th>FAMILY_SIZE</th>\n",
       "      <th>IS_ALONE</th>\n",
       "    </tr>\n",
       "  </thead>\n",
       "  <tbody>\n",
       "    <tr>\n",
       "      <th>0</th>\n",
       "      <td>EDES</td>\n",
       "      <td>1</td>\n",
       "      <td>False</td>\n",
       "      <td>DOMESTIC</td>\n",
       "      <td>628,844</td>\n",
       "      <td>TABLET</td>\n",
       "      <td>ROUND_TRIP</td>\n",
       "      <td>TRIP</td>\n",
       "      <td>True</td>\n",
       "      <td>False</td>\n",
       "      <td>0</td>\n",
       "      <td>3.0</td>\n",
       "      <td>1.0</td>\n",
       "      <td>True</td>\n",
       "    </tr>\n",
       "    <tr>\n",
       "      <th>1</th>\n",
       "      <td>EDIT</td>\n",
       "      <td>0</td>\n",
       "      <td>False</td>\n",
       "      <td>CONTINENTAL</td>\n",
       "      <td>1281,43</td>\n",
       "      <td>SMARTPHONE</td>\n",
       "      <td>ONE_WAY</td>\n",
       "      <td>TRIP</td>\n",
       "      <td>False</td>\n",
       "      <td>False</td>\n",
       "      <td>1</td>\n",
       "      <td>0.0</td>\n",
       "      <td>1.0</td>\n",
       "      <td>True</td>\n",
       "    </tr>\n",
       "    <tr>\n",
       "      <th>2</th>\n",
       "      <td>OPUK</td>\n",
       "      <td>2</td>\n",
       "      <td>False</td>\n",
       "      <td>CONTINENTAL</td>\n",
       "      <td>1730,35</td>\n",
       "      <td>TABLET</td>\n",
       "      <td>ROUND_TRIP</td>\n",
       "      <td>TRIP</td>\n",
       "      <td>True</td>\n",
       "      <td>False</td>\n",
       "      <td>0</td>\n",
       "      <td>21.0</td>\n",
       "      <td>1.0</td>\n",
       "      <td>True</td>\n",
       "    </tr>\n",
       "    <tr>\n",
       "      <th>3</th>\n",
       "      <td>OPIT</td>\n",
       "      <td>0</td>\n",
       "      <td>False</td>\n",
       "      <td>DOMESTIC</td>\n",
       "      <td>652,702</td>\n",
       "      <td>SMARTPHONE</td>\n",
       "      <td>MULTI_DESTINATION</td>\n",
       "      <td>TRIP</td>\n",
       "      <td>False</td>\n",
       "      <td>False</td>\n",
       "      <td>2</td>\n",
       "      <td>11.0</td>\n",
       "      <td>1.0</td>\n",
       "      <td>True</td>\n",
       "    </tr>\n",
       "    <tr>\n",
       "      <th>4</th>\n",
       "      <td>EDES</td>\n",
       "      <td>0</td>\n",
       "      <td>False</td>\n",
       "      <td>CONTINENTAL</td>\n",
       "      <td>1717,85</td>\n",
       "      <td>COMPUTER</td>\n",
       "      <td>ONE_WAY</td>\n",
       "      <td>TRIP</td>\n",
       "      <td>False</td>\n",
       "      <td>False</td>\n",
       "      <td>1</td>\n",
       "      <td>0.0</td>\n",
       "      <td>1.0</td>\n",
       "      <td>True</td>\n",
       "    </tr>\n",
       "  </tbody>\n",
       "</table>\n",
       "</div>"
      ],
      "text/plain": [
       "  WEBSITE  GDS  TRAIN    HAUL_TYPE DISTANCE      DEVICE          TRIP_TYPE  \\\n",
       "0    EDES    1  False     DOMESTIC  628,844      TABLET         ROUND_TRIP   \n",
       "1    EDIT    0  False  CONTINENTAL  1281,43  SMARTPHONE            ONE_WAY   \n",
       "2    OPUK    2  False  CONTINENTAL  1730,35      TABLET         ROUND_TRIP   \n",
       "3    OPIT    0  False     DOMESTIC  652,702  SMARTPHONE  MULTI_DESTINATION   \n",
       "4    EDES    0  False  CONTINENTAL  1717,85    COMPUTER            ONE_WAY   \n",
       "\n",
       "  PRODUCT    SMS  EXTRA_BAGGAGE  NO_GDS  TRIP_DURATION  FAMILY_SIZE  IS_ALONE  \n",
       "0    TRIP   True          False       0            3.0          1.0      True  \n",
       "1    TRIP  False          False       1            0.0          1.0      True  \n",
       "2    TRIP   True          False       0           21.0          1.0      True  \n",
       "3    TRIP  False          False       2           11.0          1.0      True  \n",
       "4    TRIP  False          False       1            0.0          1.0      True  "
      ]
     },
     "execution_count": 13,
     "metadata": {},
     "output_type": "execute_result"
    }
   ],
   "source": [
    "df.head()"
   ]
  },
  {
   "cell_type": "markdown",
   "metadata": {},
   "source": [
    "If we analyze the columns which have Null values, we can observe that DEVICE is the only one. "
   ]
  },
  {
   "cell_type": "code",
   "execution_count": 14,
   "metadata": {},
   "outputs": [
    {
     "data": {
      "text/plain": [
       "WEBSITE          False\n",
       "GDS              False\n",
       "TRAIN            False\n",
       "HAUL_TYPE        False\n",
       "DISTANCE         False\n",
       "DEVICE            True\n",
       "TRIP_TYPE        False\n",
       "PRODUCT          False\n",
       "SMS              False\n",
       "EXTRA_BAGGAGE    False\n",
       "NO_GDS           False\n",
       "TRIP_DURATION    False\n",
       "FAMILY_SIZE      False\n",
       "IS_ALONE         False\n",
       "dtype: bool"
      ]
     },
     "execution_count": 14,
     "metadata": {},
     "output_type": "execute_result"
    }
   ],
   "source": [
    "pd.isnull(df).sum() > 0"
   ]
  },
  {
   "cell_type": "markdown",
   "metadata": {},
   "source": [
    "So, if we analyze it specifically, we can see that it already has a category named 'OTHER'. So, it would make sense to move the NaN values to the 'OTHER' category."
   ]
  },
  {
   "cell_type": "code",
   "execution_count": 15,
   "metadata": {},
   "outputs": [
    {
     "data": {
      "text/plain": [
       "{'COMPUTER', 'OTHER', 'SMARTPHONE', 'TABLET', nan}"
      ]
     },
     "execution_count": 15,
     "metadata": {},
     "output_type": "execute_result"
    }
   ],
   "source": [
    "set(df['DEVICE'].values)"
   ]
  },
  {
   "cell_type": "code",
   "execution_count": 16,
   "metadata": {},
   "outputs": [
    {
     "data": {
      "text/plain": [
       "{'COMPUTER', 'OTHER', 'SMARTPHONE', 'TABLET'}"
      ]
     },
     "execution_count": 16,
     "metadata": {},
     "output_type": "execute_result"
    }
   ],
   "source": [
    "# IDEA: I fill nan values of DEVICE feature as 'OTHER' options\n",
    "df = df.fillna(value={'DEVICE': 'OTHER'})\n",
    "set(df['DEVICE'].values)"
   ]
  },
  {
   "cell_type": "markdown",
   "metadata": {},
   "source": [
    "After that, we convert the DISTANCE column to int, as it makes more sense to consider distance from the numerical perspective."
   ]
  },
  {
   "cell_type": "code",
   "execution_count": 17,
   "metadata": {},
   "outputs": [],
   "source": [
    "df['DISTANCE'] = df['DISTANCE'].str.replace(',', '').astype(int)"
   ]
  },
  {
   "cell_type": "markdown",
   "metadata": {},
   "source": [
    "At this stage, we have the following dataframe, with categorical columns = ['WEBSITE', 'HAUL_TYPE', 'DEVICE', 'TRIP_TYPE', 'PRODUCT'] , and others numerical values."
   ]
  },
  {
   "cell_type": "code",
   "execution_count": 18,
   "metadata": {},
   "outputs": [
    {
     "data": {
      "text/html": [
       "<div>\n",
       "<style scoped>\n",
       "    .dataframe tbody tr th:only-of-type {\n",
       "        vertical-align: middle;\n",
       "    }\n",
       "\n",
       "    .dataframe tbody tr th {\n",
       "        vertical-align: top;\n",
       "    }\n",
       "\n",
       "    .dataframe thead th {\n",
       "        text-align: right;\n",
       "    }\n",
       "</style>\n",
       "<table border=\"1\" class=\"dataframe\">\n",
       "  <thead>\n",
       "    <tr style=\"text-align: right;\">\n",
       "      <th></th>\n",
       "      <th>WEBSITE</th>\n",
       "      <th>GDS</th>\n",
       "      <th>TRAIN</th>\n",
       "      <th>HAUL_TYPE</th>\n",
       "      <th>DISTANCE</th>\n",
       "      <th>DEVICE</th>\n",
       "      <th>TRIP_TYPE</th>\n",
       "      <th>PRODUCT</th>\n",
       "      <th>SMS</th>\n",
       "      <th>EXTRA_BAGGAGE</th>\n",
       "      <th>NO_GDS</th>\n",
       "      <th>TRIP_DURATION</th>\n",
       "      <th>FAMILY_SIZE</th>\n",
       "      <th>IS_ALONE</th>\n",
       "    </tr>\n",
       "  </thead>\n",
       "  <tbody>\n",
       "    <tr>\n",
       "      <th>0</th>\n",
       "      <td>EDES</td>\n",
       "      <td>1</td>\n",
       "      <td>False</td>\n",
       "      <td>DOMESTIC</td>\n",
       "      <td>628844</td>\n",
       "      <td>TABLET</td>\n",
       "      <td>ROUND_TRIP</td>\n",
       "      <td>TRIP</td>\n",
       "      <td>True</td>\n",
       "      <td>False</td>\n",
       "      <td>0</td>\n",
       "      <td>3.0</td>\n",
       "      <td>1.0</td>\n",
       "      <td>True</td>\n",
       "    </tr>\n",
       "    <tr>\n",
       "      <th>1</th>\n",
       "      <td>EDIT</td>\n",
       "      <td>0</td>\n",
       "      <td>False</td>\n",
       "      <td>CONTINENTAL</td>\n",
       "      <td>128143</td>\n",
       "      <td>SMARTPHONE</td>\n",
       "      <td>ONE_WAY</td>\n",
       "      <td>TRIP</td>\n",
       "      <td>False</td>\n",
       "      <td>False</td>\n",
       "      <td>1</td>\n",
       "      <td>0.0</td>\n",
       "      <td>1.0</td>\n",
       "      <td>True</td>\n",
       "    </tr>\n",
       "    <tr>\n",
       "      <th>2</th>\n",
       "      <td>OPUK</td>\n",
       "      <td>2</td>\n",
       "      <td>False</td>\n",
       "      <td>CONTINENTAL</td>\n",
       "      <td>173035</td>\n",
       "      <td>TABLET</td>\n",
       "      <td>ROUND_TRIP</td>\n",
       "      <td>TRIP</td>\n",
       "      <td>True</td>\n",
       "      <td>False</td>\n",
       "      <td>0</td>\n",
       "      <td>21.0</td>\n",
       "      <td>1.0</td>\n",
       "      <td>True</td>\n",
       "    </tr>\n",
       "    <tr>\n",
       "      <th>3</th>\n",
       "      <td>OPIT</td>\n",
       "      <td>0</td>\n",
       "      <td>False</td>\n",
       "      <td>DOMESTIC</td>\n",
       "      <td>652702</td>\n",
       "      <td>SMARTPHONE</td>\n",
       "      <td>MULTI_DESTINATION</td>\n",
       "      <td>TRIP</td>\n",
       "      <td>False</td>\n",
       "      <td>False</td>\n",
       "      <td>2</td>\n",
       "      <td>11.0</td>\n",
       "      <td>1.0</td>\n",
       "      <td>True</td>\n",
       "    </tr>\n",
       "    <tr>\n",
       "      <th>4</th>\n",
       "      <td>EDES</td>\n",
       "      <td>0</td>\n",
       "      <td>False</td>\n",
       "      <td>CONTINENTAL</td>\n",
       "      <td>171785</td>\n",
       "      <td>COMPUTER</td>\n",
       "      <td>ONE_WAY</td>\n",
       "      <td>TRIP</td>\n",
       "      <td>False</td>\n",
       "      <td>False</td>\n",
       "      <td>1</td>\n",
       "      <td>0.0</td>\n",
       "      <td>1.0</td>\n",
       "      <td>True</td>\n",
       "    </tr>\n",
       "  </tbody>\n",
       "</table>\n",
       "</div>"
      ],
      "text/plain": [
       "  WEBSITE  GDS  TRAIN    HAUL_TYPE  DISTANCE      DEVICE          TRIP_TYPE  \\\n",
       "0    EDES    1  False     DOMESTIC    628844      TABLET         ROUND_TRIP   \n",
       "1    EDIT    0  False  CONTINENTAL    128143  SMARTPHONE            ONE_WAY   \n",
       "2    OPUK    2  False  CONTINENTAL    173035      TABLET         ROUND_TRIP   \n",
       "3    OPIT    0  False     DOMESTIC    652702  SMARTPHONE  MULTI_DESTINATION   \n",
       "4    EDES    0  False  CONTINENTAL    171785    COMPUTER            ONE_WAY   \n",
       "\n",
       "  PRODUCT    SMS  EXTRA_BAGGAGE  NO_GDS  TRIP_DURATION  FAMILY_SIZE  IS_ALONE  \n",
       "0    TRIP   True          False       0            3.0          1.0      True  \n",
       "1    TRIP  False          False       1            0.0          1.0      True  \n",
       "2    TRIP   True          False       0           21.0          1.0      True  \n",
       "3    TRIP  False          False       2           11.0          1.0      True  \n",
       "4    TRIP  False          False       1            0.0          1.0      True  "
      ]
     },
     "execution_count": 18,
     "metadata": {},
     "output_type": "execute_result"
    }
   ],
   "source": [
    "df.head()"
   ]
  },
  {
   "cell_type": "code",
   "execution_count": 19,
   "metadata": {},
   "outputs": [
    {
     "name": "stdout",
     "output_type": "stream",
     "text": [
      "<class 'pandas.core.frame.DataFrame'>\n",
      "RangeIndex: 50000 entries, 0 to 49999\n",
      "Data columns (total 14 columns):\n",
      "WEBSITE          50000 non-null object\n",
      "GDS              50000 non-null int64\n",
      "TRAIN            50000 non-null bool\n",
      "HAUL_TYPE        50000 non-null object\n",
      "DISTANCE         50000 non-null int64\n",
      "DEVICE           50000 non-null object\n",
      "TRIP_TYPE        50000 non-null object\n",
      "PRODUCT          50000 non-null object\n",
      "SMS              50000 non-null bool\n",
      "EXTRA_BAGGAGE    50000 non-null bool\n",
      "NO_GDS           50000 non-null int64\n",
      "TRIP_DURATION    50000 non-null float64\n",
      "FAMILY_SIZE      50000 non-null float64\n",
      "IS_ALONE         50000 non-null bool\n",
      "dtypes: bool(4), float64(2), int64(3), object(5)\n",
      "memory usage: 4.0+ MB\n",
      "None\n"
     ]
    }
   ],
   "source": [
    "print(df.info())"
   ]
  },
  {
   "cell_type": "markdown",
   "metadata": {},
   "source": [
    "### FEATURE EXPLORATION\n"
   ]
  },
  {
   "cell_type": "markdown",
   "metadata": {},
   "source": [
    "Now I will analyze the linear relationship among the variables which are not categorical by the corralation matrix."
   ]
  },
  {
   "cell_type": "code",
   "execution_count": 20,
   "metadata": {},
   "outputs": [
    {
     "data": {
      "text/html": [
       "<div>\n",
       "<style scoped>\n",
       "    .dataframe tbody tr th:only-of-type {\n",
       "        vertical-align: middle;\n",
       "    }\n",
       "\n",
       "    .dataframe tbody tr th {\n",
       "        vertical-align: top;\n",
       "    }\n",
       "\n",
       "    .dataframe thead th {\n",
       "        text-align: right;\n",
       "    }\n",
       "</style>\n",
       "<table border=\"1\" class=\"dataframe\">\n",
       "  <thead>\n",
       "    <tr style=\"text-align: right;\">\n",
       "      <th></th>\n",
       "      <th>GDS</th>\n",
       "      <th>TRAIN</th>\n",
       "      <th>DISTANCE</th>\n",
       "      <th>SMS</th>\n",
       "      <th>EXTRA_BAGGAGE</th>\n",
       "      <th>NO_GDS</th>\n",
       "      <th>TRIP_DURATION</th>\n",
       "      <th>FAMILY_SIZE</th>\n",
       "      <th>IS_ALONE</th>\n",
       "    </tr>\n",
       "  </thead>\n",
       "  <tbody>\n",
       "    <tr>\n",
       "      <th>GDS</th>\n",
       "      <td>1.000000</td>\n",
       "      <td>-0.072748</td>\n",
       "      <td>0.059673</td>\n",
       "      <td>-0.001758</td>\n",
       "      <td>-0.157093</td>\n",
       "      <td>-0.740317</td>\n",
       "      <td>0.172267</td>\n",
       "      <td>-0.066888</td>\n",
       "      <td>0.067578</td>\n",
       "    </tr>\n",
       "    <tr>\n",
       "      <th>TRAIN</th>\n",
       "      <td>-0.072748</td>\n",
       "      <td>1.000000</td>\n",
       "      <td>-0.043458</td>\n",
       "      <td>0.002408</td>\n",
       "      <td>-0.035622</td>\n",
       "      <td>0.044664</td>\n",
       "      <td>-0.024793</td>\n",
       "      <td>-0.005490</td>\n",
       "      <td>0.000266</td>\n",
       "    </tr>\n",
       "    <tr>\n",
       "      <th>DISTANCE</th>\n",
       "      <td>0.059673</td>\n",
       "      <td>-0.043458</td>\n",
       "      <td>1.000000</td>\n",
       "      <td>-0.001501</td>\n",
       "      <td>-0.042003</td>\n",
       "      <td>-0.122348</td>\n",
       "      <td>0.059183</td>\n",
       "      <td>-0.034027</td>\n",
       "      <td>0.025914</td>\n",
       "    </tr>\n",
       "    <tr>\n",
       "      <th>SMS</th>\n",
       "      <td>-0.001758</td>\n",
       "      <td>0.002408</td>\n",
       "      <td>-0.001501</td>\n",
       "      <td>1.000000</td>\n",
       "      <td>-0.002476</td>\n",
       "      <td>0.005720</td>\n",
       "      <td>0.000768</td>\n",
       "      <td>-0.000031</td>\n",
       "      <td>-0.000390</td>\n",
       "    </tr>\n",
       "    <tr>\n",
       "      <th>EXTRA_BAGGAGE</th>\n",
       "      <td>-0.157093</td>\n",
       "      <td>-0.035622</td>\n",
       "      <td>-0.042003</td>\n",
       "      <td>-0.002476</td>\n",
       "      <td>1.000000</td>\n",
       "      <td>0.181625</td>\n",
       "      <td>-0.028430</td>\n",
       "      <td>0.118114</td>\n",
       "      <td>-0.135554</td>\n",
       "    </tr>\n",
       "    <tr>\n",
       "      <th>NO_GDS</th>\n",
       "      <td>-0.740317</td>\n",
       "      <td>0.044664</td>\n",
       "      <td>-0.122348</td>\n",
       "      <td>0.005720</td>\n",
       "      <td>0.181625</td>\n",
       "      <td>1.000000</td>\n",
       "      <td>-0.117407</td>\n",
       "      <td>0.093516</td>\n",
       "      <td>-0.100287</td>\n",
       "    </tr>\n",
       "    <tr>\n",
       "      <th>TRIP_DURATION</th>\n",
       "      <td>0.172267</td>\n",
       "      <td>-0.024793</td>\n",
       "      <td>0.059183</td>\n",
       "      <td>0.000768</td>\n",
       "      <td>-0.028430</td>\n",
       "      <td>-0.117407</td>\n",
       "      <td>1.000000</td>\n",
       "      <td>-0.013635</td>\n",
       "      <td>0.025832</td>\n",
       "    </tr>\n",
       "    <tr>\n",
       "      <th>FAMILY_SIZE</th>\n",
       "      <td>-0.066888</td>\n",
       "      <td>-0.005490</td>\n",
       "      <td>-0.034027</td>\n",
       "      <td>-0.000031</td>\n",
       "      <td>0.118114</td>\n",
       "      <td>0.093516</td>\n",
       "      <td>-0.013635</td>\n",
       "      <td>1.000000</td>\n",
       "      <td>-0.767566</td>\n",
       "    </tr>\n",
       "    <tr>\n",
       "      <th>IS_ALONE</th>\n",
       "      <td>0.067578</td>\n",
       "      <td>0.000266</td>\n",
       "      <td>0.025914</td>\n",
       "      <td>-0.000390</td>\n",
       "      <td>-0.135554</td>\n",
       "      <td>-0.100287</td>\n",
       "      <td>0.025832</td>\n",
       "      <td>-0.767566</td>\n",
       "      <td>1.000000</td>\n",
       "    </tr>\n",
       "  </tbody>\n",
       "</table>\n",
       "</div>"
      ],
      "text/plain": [
       "                    GDS     TRAIN  DISTANCE       SMS  EXTRA_BAGGAGE  \\\n",
       "GDS            1.000000 -0.072748  0.059673 -0.001758      -0.157093   \n",
       "TRAIN         -0.072748  1.000000 -0.043458  0.002408      -0.035622   \n",
       "DISTANCE       0.059673 -0.043458  1.000000 -0.001501      -0.042003   \n",
       "SMS           -0.001758  0.002408 -0.001501  1.000000      -0.002476   \n",
       "EXTRA_BAGGAGE -0.157093 -0.035622 -0.042003 -0.002476       1.000000   \n",
       "NO_GDS        -0.740317  0.044664 -0.122348  0.005720       0.181625   \n",
       "TRIP_DURATION  0.172267 -0.024793  0.059183  0.000768      -0.028430   \n",
       "FAMILY_SIZE   -0.066888 -0.005490 -0.034027 -0.000031       0.118114   \n",
       "IS_ALONE       0.067578  0.000266  0.025914 -0.000390      -0.135554   \n",
       "\n",
       "                 NO_GDS  TRIP_DURATION  FAMILY_SIZE  IS_ALONE  \n",
       "GDS           -0.740317       0.172267    -0.066888  0.067578  \n",
       "TRAIN          0.044664      -0.024793    -0.005490  0.000266  \n",
       "DISTANCE      -0.122348       0.059183    -0.034027  0.025914  \n",
       "SMS            0.005720       0.000768    -0.000031 -0.000390  \n",
       "EXTRA_BAGGAGE  0.181625      -0.028430     0.118114 -0.135554  \n",
       "NO_GDS         1.000000      -0.117407     0.093516 -0.100287  \n",
       "TRIP_DURATION -0.117407       1.000000    -0.013635  0.025832  \n",
       "FAMILY_SIZE    0.093516      -0.013635     1.000000 -0.767566  \n",
       "IS_ALONE      -0.100287       0.025832    -0.767566  1.000000  "
      ]
     },
     "execution_count": 20,
     "metadata": {},
     "output_type": "execute_result"
    },
    {
     "data": {
      "image/png": "[encoded data removed]",
      "text/plain": [
       "<Figure size 1440x720 with 2 Axes>"
      ]
     },
     "metadata": {
      "needs_background": "light"
     },
     "output_type": "display_data"
    }
   ],
   "source": [
    "plt.figure(figsize=(20,10))\n",
    "c= df.corr()\n",
    "sns.heatmap(c,annot=True)\n",
    "c"
   ]
  },
  {
   "cell_type": "markdown",
   "metadata": {},
   "source": [
    "From the corralation matrix of numerical and bool data we can see that the last corralated feature with our labels is SMS confirmation and that the most corralated data are NO_GDS and GDS (we can see that they are very high corralated between them) as well as FAMILY_SIZE and IS_ALONE, which are also very corralated between them.\n"
   ]
  },
  {
   "cell_type": "markdown",
   "metadata": {},
   "source": [
    "### DATA BALANCING\n"
   ]
  },
  {
   "cell_type": "markdown",
   "metadata": {},
   "source": [
    "Data imbalance can be a handicap when training the model and as we can observe it is imbalanced in our problem, where 80% of the bookings did not asked for an EXTRA BAGGAGE and just nearly 20% of them did."
   ]
  },
  {
   "cell_type": "code",
   "execution_count": 32,
   "metadata": {},
   "outputs": [
    {
     "data": {
      "text/plain": [
       "False    0.80402\n",
       "True     0.19598\n",
       "Name: EXTRA_BAGGAGE, dtype: float64"
      ]
     },
     "execution_count": 32,
     "metadata": {},
     "output_type": "execute_result"
    }
   ],
   "source": [
    "df['EXTRA_BAGGAGE'].value_counts(normalize=True)"
   ]
  },
  {
   "cell_type": "markdown",
   "metadata": {},
   "source": [
    "Let's proceed to balance the data by separating majority and minority for each label class and then, upsampling the minority, which corresponds to the positive labels (we have less cases where users selected EXTRA BAGGAGE)."
   ]
  },
  {
   "cell_type": "code",
   "execution_count": 33,
   "metadata": {},
   "outputs": [
    {
     "name": "stdout",
     "output_type": "stream",
     "text": [
      "Majority len = 40201\n",
      "Minority len = 9799\n"
     ]
    }
   ],
   "source": [
    "# Separate majority and minority classes\n",
    "df_majority = df[df.EXTRA_BAGGAGE==0]\n",
    "df_minority = df[df.EXTRA_BAGGAGE==1]\n",
    "\n",
    "print(f'Majority len = {len(df_majority)}')\n",
    "print(f'Minority len = {len(df_minority)}')"
   ]
  },
  {
   "cell_type": "code",
   "execution_count": 34,
   "metadata": {},
   "outputs": [
    {
     "data": {
      "text/plain": [
       "True     40201\n",
       "False    40201\n",
       "Name: EXTRA_BAGGAGE, dtype: int64"
      ]
     },
     "execution_count": 34,
     "metadata": {},
     "output_type": "execute_result"
    }
   ],
   "source": [
    "# Upsample minority class\n",
    "df_minority_upsampled = resample(df_minority, replace=True, n_samples=len(df_majority), random_state=1234) \n",
    " \n",
    "# Combine majority class with upsampled minority class\n",
    "df_upsampled = pd.concat([df_majority, df_minority_upsampled])\n",
    " \n",
    "# Display new class counts\n",
    "df_upsampled['EXTRA_BAGGAGE'].value_counts()"
   ]
  },
  {
   "cell_type": "code",
   "execution_count": 35,
   "metadata": {},
   "outputs": [],
   "source": [
    "df = df_upsampled"
   ]
  },
  {
   "cell_type": "markdown",
   "metadata": {},
   "source": [
    "### CATEGORICAL DATA"
   ]
  },
  {
   "cell_type": "markdown",
   "metadata": {},
   "source": [
    "With the categorical data, we can do several things depending in which models we will use. \n",
    "\n",
    "* For deep learning models, such as the Neural Network that is developed in the main code, the one option would be to do either one-hot encoding vectors or mean encoding (I have chosen mean-encoding). After that, it is needed to normalize all data and I have done it by [MinMaxScaler](https://scikit-learn.org/stable/modules/generated/sklearn.preprocessing.MinMaxScaler.html). \n"
   ]
  },
  {
   "cell_type": "markdown",
   "metadata": {},
   "source": [
    "* For Machine Learning, there are some models which can directly deal with categorical data such as [LightGBM-Classifier](https://lightgbm.readthedocs.io/en/latest/pythonapi/lightgbm.LGBMClassifier.html) and some other which would need mean-encoding on categorical data, such as [RandomForest]().\n"
   ]
  },
  {
   "cell_type": "markdown",
   "metadata": {},
   "source": [
    "#### OPTION A\n",
    "So, for the RandomForest model, we can prepare the data by applying mean-encoding. However, it is very important that we just use the information of the training data to encode the data. Then, it can be applied to validation and test set but we can not use the information of those two sets on the encoding procedure, otherwise it would be like cheating and so it would differ the performance of the model in real scenarios."
   ]
  },
  {
   "cell_type": "code",
   "execution_count": 36,
   "metadata": {},
   "outputs": [],
   "source": [
    "def mean_encoding(df, col, column_dict=None):\n",
    "    if column_dict is None:\n",
    "        column_dict = df.groupby(col).mean()['EXTRA_BAGGAGE'].to_dict()\n",
    "    df[col] = df[col].apply(column_dict.get)\n",
    "    return column_dict, df"
   ]
  },
  {
   "cell_type": "code",
   "execution_count": 37,
   "metadata": {},
   "outputs": [],
   "source": [
    "if not best_results:\n",
    "    train_df, val_df = train_test_split(df, test_size=0.2)\n",
    "    # MEAN ENCODING FOR CATEGORICAL VARIABLES\n",
    "    # With train encoding parameters --> apply to validation and test set\n",
    "    for col in ['WEBSITE', 'HAUL_TYPE', 'DEVICE', 'TRIP_TYPE', 'PRODUCT']:\n",
    "        column_dict, train_df = mean_encoding(train_df, col)\n",
    "        # SUBSTITUTE IN VAL SET\n",
    "        _, val_df = mean_encoding(val_df, col, column_dict)\n",
    "        val_df[col].fillna((train_df[col].mean()), inplace=True)\n",
    "        # SUBSTITUTE IN TEST SET\n",
    "        #_, df_test = mean_encoding(df_test, col, column_dict)\n",
    "        #df_test[col].fillna((train_df[col].mean()), inplace=True)\n",
    "\n",
    "    # CONVERT ALL VALUES TO FLOAT\n",
    "    train_df = train_df.astype(float)\n",
    "    assert val_df.isnull().values.any() == False, 'There are NaN values in validation set'\n",
    "    val_df = val_df.astype(float)\n",
    "    #df_test = df_test.astype(float)"
   ]
  },
  {
   "cell_type": "markdown",
   "metadata": {},
   "source": [
    "#### OPTION B\n",
    "\n",
    "However, for LightGBM models we need to point out in pandas dataframe which are categorical variables in order to ease the model to deal with them correctly. So, we can use the following code:"
   ]
  },
  {
   "cell_type": "code",
   "execution_count": 38,
   "metadata": {},
   "outputs": [],
   "source": [
    "if best_results:\n",
    "    df_LGBM = df.copy()\n",
    "    \n",
    "    if 'WEB' in df and 'COUNTRY' in df:\n",
    "        columns = ['WEBSITE', 'HAUL_TYPE', 'DEVICE', 'TRIP_TYPE', 'PRODUCT', 'WEB', 'COUNTRY']\n",
    "    else:\n",
    "        columns = ['WEBSITE', 'HAUL_TYPE', 'DEVICE', 'TRIP_TYPE', 'PRODUCT']\n",
    "        \n",
    "    for col in columns:\n",
    "        df_LGBM[col] = df_LGBM[col].astype('category')\n",
    "\n",
    "    train_df, val_df = train_test_split(df_LGBM, test_size=0.2)"
   ]
  },
  {
   "cell_type": "markdown",
   "metadata": {},
   "source": [
    "## TRAINING MODEL"
   ]
  },
  {
   "cell_type": "markdown",
   "metadata": {},
   "source": [
    "Now, independently of the option chosen for treating categorical data, we need to separate the data from the labels for the training and the validation set."
   ]
  },
  {
   "cell_type": "code",
   "execution_count": 39,
   "metadata": {},
   "outputs": [],
   "source": [
    "y_train = train_df['EXTRA_BAGGAGE']\n",
    "X_train = train_df.drop('EXTRA_BAGGAGE', 1)\n",
    "y_val = val_df['EXTRA_BAGGAGE']\n",
    "X_val = val_df.drop('EXTRA_BAGGAGE', 1)"
   ]
  },
  {
   "cell_type": "code",
   "execution_count": 40,
   "metadata": {},
   "outputs": [
    {
     "name": "stdout",
     "output_type": "stream",
     "text": [
      "<class 'pandas.core.frame.DataFrame'>\n",
      "Int64Index: 64321 entries, 24656 to 26645\n",
      "Data columns (total 13 columns):\n",
      "WEBSITE          64321 non-null category\n",
      "GDS              64321 non-null int64\n",
      "TRAIN            64321 non-null bool\n",
      "HAUL_TYPE        64321 non-null category\n",
      "DISTANCE         64321 non-null int64\n",
      "DEVICE           64321 non-null category\n",
      "TRIP_TYPE        64321 non-null category\n",
      "PRODUCT          64321 non-null category\n",
      "SMS              64321 non-null bool\n",
      "NO_GDS           64321 non-null int64\n",
      "TRIP_DURATION    64321 non-null float64\n",
      "FAMILY_SIZE      64321 non-null float64\n",
      "IS_ALONE         64321 non-null bool\n",
      "dtypes: bool(3), category(5), float64(2), int64(3)\n",
      "memory usage: 3.4 MB\n"
     ]
    }
   ],
   "source": [
    "X_train.info()\n"
   ]
  },
  {
   "cell_type": "markdown",
   "metadata": {},
   "source": [
    "I decide to use LGBMClassifier because from my experience tree ensambles work better for classification and are robust to imbalance data. Besides, this model can work with categorical data without needing to encode it. \n",
    "\n",
    "The parameters are optimized by using gridSearch in the github repository. However, in this notebook I put directly the optimized parameters (the ones under best_results condition in the following cell)."
   ]
  },
  {
   "cell_type": "code",
   "execution_count": 41,
   "metadata": {},
   "outputs": [],
   "source": [
    "if best_results:\n",
    "    model = lgb.LGBMClassifier(learning_rate=0.05, max_depth=20, n_estimators=300, num_leaves=1000)\n",
    "else:\n",
    "    model = lgb.LGBMClassifier() # default parameters"
   ]
  },
  {
   "cell_type": "code",
   "execution_count": 42,
   "metadata": {},
   "outputs": [
    {
     "data": {
      "text/plain": [
       "LGBMClassifier(boosting_type='gbdt', class_weight=None, colsample_bytree=1.0,\n",
       "               importance_type='split', learning_rate=0.05, max_depth=20,\n",
       "               min_child_samples=20, min_child_weight=0.001, min_split_gain=0.0,\n",
       "               n_estimators=300, n_jobs=-1, num_leaves=1000, objective=None,\n",
       "               random_state=None, reg_alpha=0.0, reg_lambda=0.0, silent=True,\n",
       "               subsample=1.0, subsample_for_bin=200000, subsample_freq=0)"
      ]
     },
     "execution_count": 42,
     "metadata": {},
     "output_type": "execute_result"
    }
   ],
   "source": [
    "model.fit(X_train, y_train)"
   ]
  },
  {
   "cell_type": "markdown",
   "metadata": {},
   "source": [
    "Now we define a function to plot the confusion matrix and we proceed to the evaluation."
   ]
  },
  {
   "cell_type": "code",
   "execution_count": 43,
   "metadata": {},
   "outputs": [],
   "source": [
    "def plot_confusion_matrix(y_true, y_pred, normalize=False):\n",
    "    \"\"\"\n",
    "    This function prints and plots the confusion matrix.\n",
    "    Normalization can be applied by setting `normalize=True`.\n",
    "    \"\"\"\n",
    "\n",
    "    # Compute confusion matrix\n",
    "    cm = confusion_matrix(y_true, y_pred)\n",
    "    if normalize:\n",
    "        title = 'Normalized confusion matrix'\n",
    "        cm = cm.astype('float') / cm.sum(axis=1)[:, np.newaxis]\n",
    "        print(\"Normalized confusion matrix\")\n",
    "    else:\n",
    "        title = 'Confusion matrix, without normalization'\n",
    "        print('Confusion matrix, without normalization')\n",
    "\n",
    "    ax = plt.subplot()\n",
    "    sns.heatmap(cm, annot=True, ax=ax)  # annot=True to annotate cells\n",
    "    \n",
    "    # labels, title and ticks\n",
    "    ax.set_xlabel('Predicted labels')\n",
    "    ax.set_ylabel('True labels')\n",
    "    ax.set_title(title)\n",
    "    ax.xaxis.set_ticklabels(['SINGLE', 'EXTRA'])\n",
    "    ax.yaxis.set_ticklabels(['SINGLE', 'EXTRA'])\n",
    "    plt.show()"
   ]
  },
  {
   "cell_type": "code",
   "execution_count": 44,
   "metadata": {},
   "outputs": [
    {
     "name": "stdout",
     "output_type": "stream",
     "text": [
      "Model Performance\n",
      "-----------------------------\n",
      "Error percentage: 10.9 %\n",
      "F1 score = 89.84%\n",
      "ROC_AUC = 95.44%\n",
      "-----------------------------\n",
      "Normalized confusion matrix\n"
     ]
    },
    {
     "data": {
      "image/png": "[encoded data removed]",
      "text/plain": [
       "<Figure size 432x288 with 2 Axes>"
      ]
     },
     "metadata": {
      "needs_background": "light"
     },
     "output_type": "display_data"
    }
   ],
   "source": [
    "y_pred = model.predict(X_val)\n",
    "y_pred_prob = model.predict_proba(X_val)\n",
    "prob_y_1 = [p[1] for p in y_pred_prob]\n",
    "\n",
    "y_true = y_val.values\n",
    "\n",
    "n_errors = len(np.where((y_pred == y_true) == False)[0])\n",
    "f1 = f1_score(y_true, y_pred)\n",
    "\n",
    "print('Model Performance')\n",
    "print('-----------------------------')\n",
    "print('Error percentage: {:0.1f} %'.format((n_errors/len(y_pred))*100))\n",
    "print('F1 score = {:0.2f}%'.format(f1*100))\n",
    "roc = roc_auc_score(y_true, prob_y_1)\n",
    "print('ROC_AUC = {:0.2f}%'.format(roc*100))\n",
    "print('-----------------------------')\n",
    "\n",
    "\n",
    "\n",
    "\n",
    "# Plot normalized confusion matrix\n",
    "#cm, ax = plot_confusion_matrix(y_true, y_pred, normalize=False)\n",
    "\n",
    "\n",
    "plot_confusion_matrix(y_true, y_pred, normalize=True)\n"
   ]
  },
  {
   "cell_type": "markdown",
   "metadata": {},
   "source": [
    "### CONCLUSIONS \n",
    "\n"
   ]
  },
  {
   "cell_type": "markdown",
   "metadata": {},
   "source": [
    "\n",
    "\n",
    "- BALANCE IMBALANCE \n",
    "\n",
    "- TEST LO MATEIX --> AMB EL CODI\n",
    "\n",
    "'dataset_test'"
   ]
  }
 ],
 "metadata": {
  "kernelspec": {
   "display_name": "Python 3",
   "language": "python",
   "name": "python3"
  },
  "language_info": {
   "codemirror_mode": {
    "name": "ipython",
    "version": 3
   },
   "file_extension": ".py",
   "mimetype": "text/x-python",
   "name": "python",
   "nbconvert_exporter": "python",
   "pygments_lexer": "ipython3",
   "version": "3.6.7"
  }
 },
 "nbformat": 4,
 "nbformat_minor": 4
}
